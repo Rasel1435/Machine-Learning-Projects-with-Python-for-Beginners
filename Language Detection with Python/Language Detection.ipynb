{
 "cells": [
  {
   "cell_type": "markdown",
   "metadata": {},
   "source": [
    "# Language Detection with Python"
   ]
  },
  {
   "cell_type": "markdown",
   "metadata": {},
   "source": [
    "The task of language detection comes into use when you are working on a very large dataset that contains data in different languages. Suppose you want to create an even driven program where the final output depends on the language which the user provides as an input. So it is important to first detect the language of the text provided by the user before taking any action. So, in this article, I will take you through the task of language detection with Python."
   ]
  },
  {
   "cell_type": "markdown",
   "metadata": {},
   "source": [
    "As an open-source programming language, Python provides libraries and packages for almost every possible task, as the Python programming community continues to contribute to Python with new libraries, packages, and modules. You can build your machine learning model for the language detection task, but for this article, I will be using the langdetect package in Python which can detect over 55 different languages within a few lines of code."
   ]
  },
  {
   "cell_type": "markdown",
   "metadata": {},
   "source": [
    "If you have never used this package before then you can easily install it by using the pip command; pip install langdetect. Now let’s see how to use this package for the task of language detection with Python:"
   ]
  },
  {
   "cell_type": "code",
   "execution_count": 3,
   "metadata": {},
   "outputs": [
    {
     "name": "stdout",
     "output_type": "stream",
     "text": [
      "This is input from User: আমার নাম শেখ রাসেল আহমেদ\n",
      "Language: bn\n"
     ]
    }
   ],
   "source": [
    "from langdetect import detect\n",
    "text = input(\"Enter any text in any language: \")\n",
    "print(f\"This is input from User: {text}\")\n",
    "print(f\"Language: {detect(text)}\")"
   ]
  },
  {
   "cell_type": "markdown",
   "metadata": {},
   "source": [
    "In the above code, I started by importing the detect method from the langdetect package. Then, I am simply asking for user input where the user can enter text in any language. Then I am simply printing the language of the text entered by the user by detecting it using the detect method."
   ]
  },
  {
   "cell_type": "markdown",
   "metadata": {},
   "source": [
    "# Summary"
   ]
  },
  {
   "cell_type": "markdown",
   "metadata": {},
   "source": [
    "The output received is an abbreviated form of the language (bn means Bangla). So the user can enter text in whatever language the user likes, your program will detect that language but it will give the short form of that language as output. Hope you liked this article on the language detection task with Python. Please feel free to ask your valuable questions in the comments section below."
   ]
  },
  {
   "cell_type": "markdown",
   "metadata": {},
   "source": [
    "# Sheikh Rasel Ahmed"
   ]
  },
  {
   "cell_type": "markdown",
   "metadata": {},
   "source": [
    "##### Data Science || Machine Learning || Deep Learning || Artificial Intelligence Enthusiast"
   ]
  },
  {
   "cell_type": "markdown",
   "metadata": {},
   "source": [
    "###### LinkedIn - https://www.linkedin.com/in/shekhnirob1\n",
    "###### GitHub - https://github.com/Rasel1435\n",
    "###### Behance - https://www.behance.net/Shekhrasel2513"
   ]
  }
 ],
 "metadata": {
  "kernelspec": {
   "display_name": "Python 3.10.5 64-bit",
   "language": "python",
   "name": "python3"
  },
  "language_info": {
   "codemirror_mode": {
    "name": "ipython",
    "version": 3
   },
   "file_extension": ".py",
   "mimetype": "text/x-python",
   "name": "python",
   "nbconvert_exporter": "python",
   "pygments_lexer": "ipython3",
   "version": "3.10.5"
  },
  "orig_nbformat": 4,
  "vscode": {
   "interpreter": {
    "hash": "afb734500600fd355917ca529030176ea0ca205570884b88f2f6f7d791fd3fbe"
   }
  }
 },
 "nbformat": 4,
 "nbformat_minor": 2
}
