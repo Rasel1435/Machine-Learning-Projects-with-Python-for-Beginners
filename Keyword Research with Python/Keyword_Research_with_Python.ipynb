{
 "cells": [
  {
   "attachments": {},
   "cell_type": "markdown",
   "metadata": {},
   "source": [
    "# Keyword Research with Python"
   ]
  },
  {
   "attachments": {},
   "cell_type": "markdown",
   "metadata": {},
   "source": [
    "Google Trends is a keyword research tool that helps the researchers, bloggers, digital marketers and some more people in the digital industry to find how often a keyword is entered into Google search engine over a given period. Google Trends is used for keyword research mostly is writing articles on hot topics. In this article, I’ll walk you through how to perform keyword research with python to find the hottest topics and keywords."
   ]
  },
  {
   "attachments": {},
   "cell_type": "markdown",
   "metadata": {},
   "source": [
    "I will use the Google API to access Google trends which can be done by using the pytrends library in python. Python being a general-purpose programming language provides libraries and packages for almost every task. pytrends can be easily installed by using the pip command – pip install pytrends. I hope that you have easily installed this package, now let’s start with the task of keyword research with python."
   ]
  },
  {
   "attachments": {},
   "cell_type": "markdown",
   "metadata": {},
   "source": [
    "# Keyword Research with Python"
   ]
  },
  {
   "attachments": {},
   "cell_type": "markdown",
   "metadata": {},
   "source": [
    "You need to log in to Google first because, after all, we ask Google Trends for trending topics. For that, we need to import the method called TrendReq from the pytrends.request method"
   ]
  },
  {
   "attachments": {},
   "cell_type": "markdown",
   "metadata": {},
   "source": [
    "# Import Important Libraries"
   ]
  },
  {
   "cell_type": "code",
   "execution_count": 45,
   "metadata": {},
   "outputs": [],
   "source": [
    "import pandas as pd\n",
    "import numpy as np\n",
    "import matplotlib.pyplot as plt\n",
    "import seaborn as sns\n",
    "import plotly.express as px\n",
    "\n",
    "from pytrends.request import TrendReq\n",
    "trends = TrendReq()"
   ]
  },
  {
   "attachments": {},
   "cell_type": "markdown",
   "metadata": {},
   "source": [
    "# Keyword Interest By Region"
   ]
  },
  {
   "attachments": {},
   "cell_type": "markdown",
   "metadata": {},
   "source": [
    "Let’s see the terms that are popular in the region around the world. I will choose the term to search for as “Artificial Intelligence”"
   ]
  },
  {
   "cell_type": "code",
   "execution_count": 46,
   "metadata": {},
   "outputs": [
    {
     "name": "stdout",
     "output_type": "stream",
     "text": [
      "                     Artificial Intelligence\n",
      "geoName                                     \n",
      "Fiji                                       0\n",
      "Switzerland                               10\n",
      "Burkina Faso                               0\n",
      "Libya                                      0\n",
      "Guyana                                     0\n",
      "Ukraine                                    2\n",
      "Antigua & Barbuda                          0\n",
      "São Tomé & Príncipe                        0\n",
      "Taiwan                                     5\n",
      "Malta                                      0\n"
     ]
    }
   ],
   "source": [
    "trends.build_payload(kw_list=[\"Artificial Intelligence\"])\n",
    "data = trends.interest_by_region()\n",
    "print(data.sample(10))"
   ]
  },
  {
   "attachments": {},
   "cell_type": "markdown",
   "metadata": {},
   "source": [
    "Values ​​are calculated on a scale of 0 to 100, where 100 is the most popular location as a fraction of the total searches for that location, a value of 50 indicates a location half as popular. Now let’s visualize the above search results to get better insights"
   ]
  },
  {
   "cell_type": "code",
   "execution_count": 47,
   "metadata": {},
   "outputs": [
    {
     "data": {
      "image/png": "[encoded data removed]",
      "text/plain": [
       "<Figure size 1440x720 with 1 Axes>"
      ]
     },
     "metadata": {
      "needs_background": "light"
     },
     "output_type": "display_data"
    }
   ],
   "source": [
    "df = data.sample(15)\n",
    "df.reset_index().plot(x=\"geoName\", y=\"Artificial Intelligence\", figsize=(20, 10), kind=\"bar\")\n",
    "plt.show()"
   ]
  },
  {
   "attachments": {},
   "cell_type": "markdown",
   "metadata": {},
   "source": [
    "# Keyword Research with Python for Daily Search Trends"
   ]
  },
  {
   "attachments": {},
   "cell_type": "markdown",
   "metadata": {},
   "source": [
    "Now let’s take a look at the top daily search trends around the world. To do this, we need to use the trending_searches () method"
   ]
  },
  {
   "cell_type": "code",
   "execution_count": 48,
   "metadata": {},
   "outputs": [
    {
     "name": "stdout",
     "output_type": "stream",
     "text": [
      "                          0\n",
      "0      Argentina vs Croatia\n",
      "1                Zika virus\n",
      "2          India-China news\n",
      "3              Taylor Swift\n",
      "4       BSSC CGL Admit Card\n",
      "5               Rishi Sunak\n",
      "6               Oppenheimer\n",
      "7  India vs Bangladesh Test\n",
      "8     Landmark Cars IPO GMP\n",
      "9              Maria Telkes\n"
     ]
    }
   ],
   "source": [
    "data = trends.trending_searches(pn=\"india\")\n",
    "print(data.head(10))"
   ]
  },
  {
   "attachments": {},
   "cell_type": "markdown",
   "metadata": {},
   "source": [
    "# Google Keyword Suggestion"
   ]
  },
  {
   "attachments": {},
   "cell_type": "markdown",
   "metadata": {},
   "source": [
    "Now, let’s see how we can get the google keywords suggestion for keyword research with python. Keywords are those words that are mostly typed by users in the search engine to find about a particular topic"
   ]
  },
  {
   "cell_type": "code",
   "execution_count": 49,
   "metadata": {},
   "outputs": [
    {
     "name": "stdout",
     "output_type": "stream",
     "text": [
      "             mid  ...                          type\n",
      "0      /m/041vbs  ...            Television station\n",
      "1       /m/0kc6x  ...                 Cable company\n",
      "2      /m/04m55x  ...            Television station\n",
      "3      /m/06rpx4  ...            Television station\n",
      "4  /g/11fx8y_lzq  ...  Book by Andreas Antonopoulos\n",
      "\n",
      "[5 rows x 3 columns]\n"
     ]
    }
   ],
   "source": [
    "keyword = trends.suggestions(keyword=\"Programming\")\n",
    "data = pd.DataFrame(keyword)\n",
    "print(data.head())"
   ]
  },
  {
   "attachments": {},
   "cell_type": "markdown",
   "metadata": {},
   "source": [
    "I hope you liked this article on Keyword research with python. Feel free to ask your valuable questions in the comments section below. "
   ]
  },
  {
   "attachments": {},
   "cell_type": "markdown",
   "metadata": {},
   "source": [
    "# Sheikh Rasel Ahmed"
   ]
  },
  {
   "attachments": {},
   "cell_type": "markdown",
   "metadata": {},
   "source": [
    "#### Data Science || Machine Learning || Deep Learning || Artificial Intelligence Enthusiast"
   ]
  },
  {
   "attachments": {},
   "cell_type": "markdown",
   "metadata": {},
   "source": [
    "##### LinkedIn - https://www.linkedin.com/in/shekhnirob1\n",
    "##### GitHub - https://github.com/Rasel1435\n",
    "##### Behance - https://www.behance.net/Shekhrasel2513"
   ]
  }
 ],
 "metadata": {
  "kernelspec": {
   "display_name": "Python 3",
   "language": "python",
   "name": "python3"
  },
  "language_info": {
   "codemirror_mode": {
    "name": "ipython",
    "version": 3
   },
   "file_extension": ".py",
   "mimetype": "text/x-python",
   "name": "python",
   "nbconvert_exporter": "python",
   "pygments_lexer": "ipython3",
   "version": "3.10.6"
  },
  "orig_nbformat": 4,
  "vscode": {
   "interpreter": {
    "hash": "31f2aee4e71d21fbe5cf8b01ff0e069b9275f58929596ceb00d14d90e3e16cd6"
   }
  }
 },
 "nbformat": 4,
 "nbformat_minor": 2
}
