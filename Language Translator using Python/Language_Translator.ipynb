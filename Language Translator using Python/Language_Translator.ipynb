{
 "cells": [
  {
   "cell_type": "markdown",
   "metadata": {},
   "source": [
    "# Language Translator using Python"
   ]
  },
  {
   "cell_type": "markdown",
   "metadata": {},
   "source": [
    "Language translator is one of those apps that helped us a lot for any language. Google Translator API helps us to create our translator using Python. In this article, I will walk you through how to create an interactive language translator using Python."
   ]
  },
  {
   "cell_type": "markdown",
   "metadata": {},
   "source": [
    "You can easily translate any language using Google translator, but creating your translator will be a satisfying experience as a programmer. The googletrans API created by Google developers was used earlier to translate any text using Python. But now the new API from the Google developers known as google_trans_new is used for the same task."
   ]
  },
  {
   "cell_type": "markdown",
   "metadata": {},
   "source": [
    "You can use this API for every task that you can do with the google translator. You can easily install this library in your systems by using the pip command; pip install google_trans_new. To make a translator more interactive I will also create an interactive user interface by using the streamlit library in Python. Now let’s see how to create an interactive language translator using Python:"
   ]
  },
  {
   "cell_type": "markdown",
   "metadata": {},
   "source": [
    "#### pip install google_trans_new\n",
    "#### pip install streamlit"
   ]
  },
  {
   "cell_type": "code",
   "execution_count": 3,
   "metadata": {},
   "outputs": [],
   "source": [
    "from google_trans_new import google_translator\n",
    "import streamlit as st\n",
    "translator = google_translator()\n",
    "st.title(\"Language Translator\")\n",
    "text = st.text_input(\"Enter a text\")\n",
    "translate = translator.translate(text, lang_tgt='bn')\n",
    "st.write(translate)"
   ]
  },
  {
   "cell_type": "markdown",
   "metadata": {},
   "source": [
    "Since we are using the streamlit library here, we need to run this code using the streamlit run file name.py command in your terminal. After running the file a link will open in your default browser with an interactive user interface. In the text field, you can enter any text in any language, once you hit enter it will translate it to French as I have mentioned ‘fr’ as our target language in the above code."
   ]
  },
  {
   "cell_type": "markdown",
   "metadata": {},
   "source": [
    "Below is how the final output will appear:"
   ]
  },
  {
   "cell_type": "markdown",
   "metadata": {},
   "source": [
    "# Language Translator"
   ]
  },
  {
   "cell_type": "markdown",
   "metadata": {},
   "source": [
    "Enter a text"
   ]
  },
  {
   "cell_type": "code",
   "execution_count": 4,
   "metadata": {},
   "outputs": [],
   "source": [
    "# I love My Country"
   ]
  },
  {
   "cell_type": "markdown",
   "metadata": {},
   "source": [
    "আমি আমার দেশকে ভালোবাসি"
   ]
  },
  {
   "cell_type": "markdown",
   "metadata": {},
   "source": [
    "## Summary"
   ]
  },
  {
   "cell_type": "markdown",
   "metadata": {},
   "source": [
    "This is how we can create a language translator using Python using the Google translation API developed by Google developers. You can try this app with more languages and a more interactive user interface. Hope this article taught you how to create an interactive language translator using Python. Please feel free to ask your valuable questions in the comments section below."
   ]
  },
  {
   "cell_type": "markdown",
   "metadata": {},
   "source": [
    "# Sheikh Rasel Ahmed"
   ]
  },
  {
   "cell_type": "markdown",
   "metadata": {},
   "source": [
    "##### Data Science || Machine Learning || Deep Learning || Artificial Intelligence Enthusiast"
   ]
  },
  {
   "cell_type": "markdown",
   "metadata": {},
   "source": [
    "##### LinkedIn - https://www.linkedin.com/in/shekhnirob1\n",
    "\n",
    "##### GitHub - https://github.com/Rasel1435\n",
    "\n",
    "##### Behance - https://www.behance.net/Shekhrasel2513\n"
   ]
  }
 ],
 "metadata": {
  "kernelspec": {
   "display_name": "Python 3.10.5 64-bit",
   "language": "python",
   "name": "python3"
  },
  "language_info": {
   "codemirror_mode": {
    "name": "ipython",
    "version": 3
   },
   "file_extension": ".py",
   "mimetype": "text/x-python",
   "name": "python",
   "nbconvert_exporter": "python",
   "pygments_lexer": "ipython3",
   "version": "3.10.5"
  },
  "orig_nbformat": 4,
  "vscode": {
   "interpreter": {
    "hash": "afb734500600fd355917ca529030176ea0ca205570884b88f2f6f7d791fd3fbe"
   }
  }
 },
 "nbformat": 4,
 "nbformat_minor": 2
}
